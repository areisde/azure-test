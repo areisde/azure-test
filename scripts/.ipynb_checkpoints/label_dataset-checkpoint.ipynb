{
 "cells": [
  {
   "cell_type": "markdown",
   "id": "4ac241dd",
   "metadata": {},
   "source": [
    "# Imports"
   ]
  },
  {
   "cell_type": "code",
   "execution_count": 47,
   "id": "680c7371",
   "metadata": {},
   "outputs": [
    {
     "name": "stdout",
     "output_type": "stream",
     "text": [
      "The autoreload extension is already loaded. To reload it, use:\n",
      "  %reload_ext autoreload\n"
     ]
    }
   ],
   "source": [
    "%load_ext autoreload\n",
    "%autoreload 2\n",
    "\n",
    "import sys\n",
    "import os\n",
    "import math\n",
    "import json\n",
    "import numpy as np\n",
    "from sklearn.metrics import classification_report, confusion_matrix\n",
    "import numpy as np\n",
    "import joblib\n",
    "from sklearn.preprocessing import normalize\n",
    "from sklearn.model_selection import train_test_split, GridSearchCV\n",
    "from sklearn.linear_model import LogisticRegression\n",
    "from sentence_transformers import SentenceTransformer\n",
    "import datetime as dt\n",
    "\n",
    "sys.path.append('..')\n",
    "from scripts import classifier\n",
    "from services import embeddings, filter, crawler\n",
    "from db.models import Article\n",
    "from api import ingest"
   ]
  },
  {
   "cell_type": "markdown",
   "id": "afc9e8b2",
   "metadata": {},
   "source": [
    "# Data\n",
    "Load synthetic training data generated using ChatGPT based on real world recent articles."
   ]
  },
  {
   "cell_type": "code",
   "execution_count": 4,
   "id": "1ba4d1a1",
   "metadata": {},
   "outputs": [
    {
     "name": "stdout",
     "output_type": "stream",
     "text": [
      "There are 200 generated articles.\n"
     ]
    }
   ],
   "source": [
    "with open(\"../data/train.json\", \"r\") as f:\n",
    "    articles = json.load(f)\n",
    "\n",
    "print(f\"There are {len(articles)} generated articles.\")"
   ]
  },
  {
   "cell_type": "markdown",
   "id": "aa435516",
   "metadata": {},
   "source": [
    "# Classifier\n",
    "\n",
    "The goal is to leverage LLMs capacity for **zero-shot semantic understanding**, then use it to assign four independent labels to every headline/body pair:\n",
    "\n",
    "* **Relevance** – tag each article as *relevant* or *irrelevant* for enterprise IT teams.  \n",
    "* **Severity** – rate the technical danger (*severe* vs. *non-severe*; i.e. \"zero-day under active exploit\" vs \"patch released\").  \n",
    "* **Scope** – flag the breadth of the incident (*wide* vs. *narrow* scope; i.e. a high-tier vendor incident usually hits more organisations).  \n",
    "* **User impact** – gauge how many users / records are affected (*high* vs. *low* impact; i.e. \"millions of user records\" vs \"internal test\").\n",
    "\n",
    "The resulting label scores become the training targets for the filter and ranking models that will be promoted to production."
   ]
  },
  {
   "cell_type": "code",
   "execution_count": 15,
   "id": "6386471b",
   "metadata": {},
   "outputs": [],
   "source": [
    "processed_articles = []\n",
    "for article in articles:\n",
    "    result = classifier.classify_article(article)\n",
    "    processed_article = {\n",
    "        \"article\": article,\n",
    "        \"classification\": result\n",
    "    }\n",
    "    processed_articles.append(processed_article)"
   ]
  },
  {
   "cell_type": "code",
   "execution_count": 20,
   "id": "007b645e-0784-4dca-bd31-ef70406c8a52",
   "metadata": {},
   "outputs": [],
   "source": [
    "# Save labelled data\n",
    "with open('../data/train_labelled.json', 'w') as f:\n",
    "    json.dump(processed_articles, f)"
   ]
  },
  {
   "cell_type": "code",
   "execution_count": 5,
   "id": "61d82e47",
   "metadata": {},
   "outputs": [
    {
     "name": "stdout",
     "output_type": "stream",
     "text": [
      "Found 100 relevant articles.\n"
     ]
    }
   ],
   "source": [
    "with open(\"../data/train_labelled.json\", \"r\") as f:\n",
    "    processed_articles = json.load(f)\n",
    "    \n",
    "relevant_articles = [article for article in processed_articles if article['classification'].get('relevant')]\n",
    "print(f\"Found {len(relevant_articles)} relevant articles.\")"
   ]
  },
  {
   "cell_type": "code",
   "execution_count": 6,
   "id": "83601a54",
   "metadata": {},
   "outputs": [
    {
     "name": "stdout",
     "output_type": "stream",
     "text": [
      "{'title': 'Elastic confirms a data breach exposing 488K customer records; incident response is underw', 'body': 'Elastic confirms a data breach exposing 488K customer records; incident response is underway.', 'published_at': '2025-07-12T05:18:14Z', 'id': 'https://example.com/75919e72-8cd3-48aa-a104-65de43370ef7', 'created_at': '2025-07-12T05:20:14Z', 'source': 'Elastic', 'relevant': True}\n"
     ]
    }
   ],
   "source": [
    "# Example of relevant article\n",
    "print(relevant_articles[2]['article'])"
   ]
  },
  {
   "cell_type": "markdown",
   "id": "ae6ecaee",
   "metadata": {},
   "source": [
    "# Training"
   ]
  },
  {
   "cell_type": "markdown",
   "id": "679fb7a1",
   "metadata": {},
   "source": [
    "### Prepare data for training"
   ]
  },
  {
   "cell_type": "code",
   "execution_count": 38,
   "id": "9dddd669-b0a9-4e09-819b-2c18f06ab55b",
   "metadata": {},
   "outputs": [],
   "source": [
    "X = [text['article']['title'] + text['article']['body'] for text in processed_articles] # Only keep main text from articles for embedding\n",
    "y = {}\n",
    "y[\"relevant\"] = [1 if article['classification'].get('relevant') else 0 for article in processed_articles ] # Label for relevant parameter\n",
    "y[\"severe\"]  = [1 if article['classification'].get('severe') else 0 for article in processed_articles ] # Label for severe parameter\n",
    "y[\"wide_scope\"]  = [1 if article['classification'].get('wide_scope') else 0 for article in processed_articles ] # Label for wide_scope parameter\n",
    "y[\"high_impact\"]  = [1 if article['classification'].get('high_impact') else 0 for article in processed_articles ] # Label for high_impact parameter\n"
   ]
  },
  {
   "cell_type": "markdown",
   "id": "a93e8e58",
   "metadata": {},
   "source": [
    "### Set model up parameters"
   ]
  },
  {
   "cell_type": "code",
   "execution_count": 42,
   "id": "d775ba6b",
   "metadata": {},
   "outputs": [],
   "source": [
    "MODEL_NAME   = \"all-MiniLM-L6-v2\"\n",
    "BATCH_SIZE   = 32\n",
    "SEED = 42"
   ]
  },
  {
   "cell_type": "markdown",
   "id": "54ed7baa",
   "metadata": {},
   "source": [
    "### Embedding"
   ]
  },
  {
   "cell_type": "code",
   "execution_count": 43,
   "id": "05ec530e",
   "metadata": {},
   "outputs": [
    {
     "name": "stderr",
     "output_type": "stream",
     "text": [
      "Batches: 100%|███████████████████████████████████████████████████████████████████████████| 7/7 [00:00<00:00, 15.08it/s]\n"
     ]
    }
   ],
   "source": [
    "embedder = SentenceTransformer(MODEL_NAME)\n",
    "\n",
    "def encode_texts(texts):\n",
    "    return embedder.encode(\n",
    "        texts,\n",
    "        batch_size=BATCH_SIZE,\n",
    "        normalize_embeddings=True,\n",
    "        show_progress_bar=True,\n",
    "        convert_to_numpy=True\n",
    "    )\n",
    "\n",
    "# Produce embeddings \n",
    "X_encoded = encode_texts(X)"
   ]
  },
  {
   "cell_type": "markdown",
   "id": "b45ba380",
   "metadata": {},
   "source": [
    "### Train"
   ]
  },
  {
   "cell_type": "code",
   "execution_count": 44,
   "id": "e94f2469",
   "metadata": {},
   "outputs": [],
   "source": [
    "params = [\"relevant\", \"severe\", \"wide_scope\", \"high_impact\"]\n",
    "param_grid = {'C': [0.5, 1.0, 2.0]}\n",
    "X_test_dict = {}\n",
    "y_test_dict = {}\n",
    "\n",
    "for param in params:\n",
    "    # Train / test split\n",
    "    X_train, X_test, y_train, y_test = train_test_split(\n",
    "        X_encoded, y[param], test_size=0.20, stratify=y[param], random_state=SEED\n",
    "    )\n",
    "    X_test_dict[param] = X_test\n",
    "    y_test_dict[param] = y_test\n",
    "\n",
    "    # Class weights\n",
    "    \"\"\"\n",
    "    We bias the classifier towards a higher recall in case relevancy\n",
    "    is at stake (not to miss important articles)\n",
    "    \"\"\"\n",
    "    class_weight = {0:1, 1:2} if param == \"relevant\" else {0:1, 1:1}\n",
    "\n",
    "    # Model\n",
    "    lr = LogisticRegression(\n",
    "        solver=\"lbfgs\",\n",
    "        max_iter=1000,\n",
    "        random_state=SEED,\n",
    "        class_weight=class_weight\n",
    "    )\n",
    "    grid_search = GridSearchCV(lr, param_grid, cv=5, scoring='f1', n_jobs=1)\n",
    "\n",
    "    # Fit\n",
    "    grid_search.fit(X_train, y_train)\n",
    "    clf = grid_search.best_estimator_\n",
    "\n",
    "    # Save model weights\n",
    "    joblib.dump(clf, f\"../models/{param}_model.joblib\")"
   ]
  },
  {
   "cell_type": "markdown",
   "id": "3dd6618b",
   "metadata": {},
   "source": [
    "### Evaluate"
   ]
  },
  {
   "cell_type": "code",
   "execution_count": 45,
   "id": "13def816-6803-41e3-9d9d-4528d0ecb5c0",
   "metadata": {},
   "outputs": [],
   "source": [
    "def evaluate(param):\n",
    "    clf = joblib.load(f\"../models/{param}_model.joblib\")\n",
    "    y_pred = clf.predict(X_test_dict[param])\n",
    "    print(classification_report(y_test_dict[param], y_pred, digits=3))"
   ]
  },
  {
   "cell_type": "code",
   "execution_count": 46,
   "id": "d16ac185-08b0-4e33-83de-6f015eef6044",
   "metadata": {},
   "outputs": [
    {
     "name": "stdout",
     "output_type": "stream",
     "text": [
      "Evaluating performance for 'relevant' parameter...\n",
      "              precision    recall  f1-score   support\n",
      "\n",
      "           0      1.000     1.000     1.000        20\n",
      "           1      1.000     1.000     1.000        20\n",
      "\n",
      "    accuracy                          1.000        40\n",
      "   macro avg      1.000     1.000     1.000        40\n",
      "weighted avg      1.000     1.000     1.000        40\n",
      "\n",
      "Evaluating performance for 'severe' parameter...\n",
      "              precision    recall  f1-score   support\n",
      "\n",
      "           0      1.000     1.000     1.000        26\n",
      "           1      1.000     1.000     1.000        14\n",
      "\n",
      "    accuracy                          1.000        40\n",
      "   macro avg      1.000     1.000     1.000        40\n",
      "weighted avg      1.000     1.000     1.000        40\n",
      "\n",
      "Evaluating performance for 'wide_scope' parameter...\n",
      "              precision    recall  f1-score   support\n",
      "\n",
      "           0      1.000     0.870     0.930        23\n",
      "           1      0.850     1.000     0.919        17\n",
      "\n",
      "    accuracy                          0.925        40\n",
      "   macro avg      0.925     0.935     0.925        40\n",
      "weighted avg      0.936     0.925     0.925        40\n",
      "\n",
      "Evaluating performance for 'high_impact' parameter...\n",
      "              precision    recall  f1-score   support\n",
      "\n",
      "           0      0.933     0.903     0.918        31\n",
      "           1      0.700     0.778     0.737         9\n",
      "\n",
      "    accuracy                          0.875        40\n",
      "   macro avg      0.817     0.841     0.827        40\n",
      "weighted avg      0.881     0.875     0.877        40\n",
      "\n"
     ]
    }
   ],
   "source": [
    "for param in params:\n",
    "    print(f\"Evaluating performance for '{param}' parameter...\")\n",
    "    evaluate(param)"
   ]
  },
  {
   "cell_type": "markdown",
   "id": "07efac92-eba0-4962-8fa7-21a783313b5b",
   "metadata": {},
   "source": [
    "# Ranking\n",
    "For filtering articles, we will use the \"relevant\" classifier that simply states if an article is relevant for an IT professional or not.\n",
    "\n",
    "For ranking articles by importance we will use a mix of the three other classifiers to build an importance score together with the freshness of the articles (published_at).\n",
    "Then, arbitrary weights were picked for the different parameters, based on a personal evaluation of what should be put forward :\n",
    "* Severity : 0.5\n",
    "* Wide scope : 0.3\n",
    "* High impact : 0.2\n",
    "\n",
    "The **final importance score** is calculated as a weighted sum of the three dimensions:\n",
    "\n",
    "```\n",
    "Importance Score = (Severity × 0.5) + (Wide Scope × 0.3) + (High Impact × 0.2)\n",
    "```\n",
    "On top of this, score is further biased by its freshness (how many hours ago was the article published), the hottest the higher the importance. Again, we arbitrarly pick the wieghts to be :\n",
    "* Parameters : 0.7\n",
    "* Freshness : 0.3\n",
    "\n",
    "```\n",
    "Final Score = (Importance Score × 0.7) + (Freshness × 0.3)\n",
    "```"
   ]
  },
  {
   "cell_type": "code",
   "execution_count": 74,
   "id": "63e79ccb-f7c1-462f-9ada-832eb75624d6",
   "metadata": {},
   "outputs": [],
   "source": [
    "def importance_score(article):\n",
    "    # Embed article\n",
    "    text = article['title'] + article['body'].split(\".\")[0]\n",
    "    article_embedded = embedder.encode(text, normalize_embeddings=True, convert_to_numpy=True)\n",
    "\n",
    "    # Score based on parameters\n",
    "    params = [\"severe\", \"wide_scope\", \"high_impact\"]\n",
    "    weights = {\"severe\" : 0.5, \"wide_scope\" : 0.3, \"high_impact\" : 0.2}\n",
    "    scores = {}\n",
    "    \n",
    "    for param in params:\n",
    "        clf = joblib.load(f\"../models/{param}_model.joblib\")\n",
    "        y_pred = clf.predict_proba(article_embedded.reshape(1,-1))\n",
    "        y_prob = y_pred[0][1] # Probability of article being severe or wide_scope or high_impact\n",
    "        scores[param] = y_prob\n",
    "\n",
    "    score = sum([weights[param]*scores[param] for param in params])\n",
    "\n",
    "    return score"
   ]
  },
  {
   "cell_type": "code",
   "execution_count": 97,
   "id": "e6c803c4-fb81-4427-aa14-1b5e31209a31",
   "metadata": {},
   "outputs": [],
   "source": [
    "def freshness_score(article):\n",
    "    published_at = article['published_at']\n",
    "    published = dt.datetime.fromisoformat(published_at.replace(\"Z\", \"+00:00\"))\n",
    "    now_utc = dt.datetime.now(dt.timezone.utc)\n",
    "    age_hours = (now_utc - published).total_seconds() / 3600\n",
    "    tau_hours = 72\n",
    "    freshness_score = math.exp(-age_hours / tau_hours)\n",
    "\n",
    "    return freshness_score"
   ]
  },
  {
   "cell_type": "markdown",
   "id": "866bfa4e-7027-4c82-acc7-89e1d71504e2",
   "metadata": {},
   "source": [
    "### Rank the 10 first relevant articles"
   ]
  },
  {
   "cell_type": "code",
   "execution_count": 105,
   "id": "9e4a230a-aecb-46e3-a810-4c2ba5238b7b",
   "metadata": {},
   "outputs": [],
   "source": [
    "articles_scored = {}\n",
    "\n",
    "for article in relevant_articles[:10]:\n",
    "    article_content = article['article']\n",
    "    score = importance_score(article_content)*0.7 + freshness_score(article_content)*0.3\n",
    "\n",
    "    articles_scored[article_content['title']] = score"
   ]
  },
  {
   "cell_type": "code",
   "execution_count": 106,
   "id": "42e0d5d5-f496-4fbd-a037-76b7aa931d34",
   "metadata": {},
   "outputs": [
    {
     "data": {
      "text/plain": [
       "{'Researchers discovered a new exploit kit targeting SSL‑VPN, weaponizing CVE-2025-1166': 0.6480853023311397,\n",
       " 'Researchers discovered a new exploit kit targeting ASA, weaponizing CVE-2024-7924': 0.6304578930678473,\n",
       " 'Elastic confirms a data breach exposing 488K customer records; incident response is underw': 0.3978406457143619,\n",
       " 'Elastic is investigating a critical vulnerability (CVE-2025-2638) allowing remote code exe': 0.6238727570306012,\n",
       " 'Researchers discovered a new exploit kit targeting ESXi, weaponizing CVE-2025-8484': 0.6076048163854597,\n",
       " 'Cloudflare confirms a data breach exposing 383K customer records; incident response is und': 0.4142366318348899,\n",
       " 'Cisco is investigating a major vulnerability (CVE-2024-5335) allowing remote code executio': 0.6000597649246994,\n",
       " 'Atlassian reports a critical outage in us-west-2, affecting services Cloud Functions, Conf': 0.6014066016557043,\n",
       " 'Researchers discovered a new exploit kit targeting ESXi, weaponizing CVE-2024-5681': 0.6177824458355199,\n",
       " 'AWS is investigating a sev‑1 vulnerability (CVE-2025-4150) allowing remote code execution': 0.649494431769017}"
      ]
     },
     "execution_count": 106,
     "metadata": {},
     "output_type": "execute_result"
    }
   ],
   "source": [
    "articles_scored"
   ]
  },
  {
   "cell_type": "code",
   "execution_count": 109,
   "id": "6f14facf-9315-4103-9dd3-f89313fe2c9b",
   "metadata": {},
   "outputs": [
    {
     "data": {
      "text/plain": [
       "[('AWS is investigating a sev‑1 vulnerability (CVE-2025-4150) allowing remote code execution',\n",
       "  0.649494431769017),\n",
       " ('Researchers discovered a new exploit kit targeting SSL‑VPN, weaponizing CVE-2025-1166',\n",
       "  0.6480853023311397),\n",
       " ('Researchers discovered a new exploit kit targeting ASA, weaponizing CVE-2024-7924',\n",
       "  0.6304578930678473),\n",
       " ('Elastic is investigating a critical vulnerability (CVE-2025-2638) allowing remote code exe',\n",
       "  0.6238727570306012),\n",
       " ('Researchers discovered a new exploit kit targeting ESXi, weaponizing CVE-2024-5681',\n",
       "  0.6177824458355199),\n",
       " ('Researchers discovered a new exploit kit targeting ESXi, weaponizing CVE-2025-8484',\n",
       "  0.6076048163854597),\n",
       " ('Atlassian reports a critical outage in us-west-2, affecting services Cloud Functions, Conf',\n",
       "  0.6014066016557043),\n",
       " ('Cisco is investigating a major vulnerability (CVE-2024-5335) allowing remote code executio',\n",
       "  0.6000597649246994),\n",
       " ('Cloudflare confirms a data breach exposing 383K customer records; incident response is und',\n",
       "  0.4142366318348899),\n",
       " ('Elastic confirms a data breach exposing 488K customer records; incident response is underw',\n",
       "  0.3978406457143619)]"
      ]
     },
     "execution_count": 109,
     "metadata": {},
     "output_type": "execute_result"
    }
   ],
   "source": [
    "ranked = sorted(\n",
    "    articles_scored.items(),\n",
    "    key=lambda kv: kv[1],\n",
    "    reverse=True\n",
    ")\n",
    "ranked"
   ]
  },
  {
   "cell_type": "markdown",
   "id": "16e3d853-8e9c-47d6-939f-943a6ba11018",
   "metadata": {},
   "source": [
    "# Tests"
   ]
  },
  {
   "cell_type": "code",
   "execution_count": 48,
   "id": "ffc14050-0c4a-4698-aa6b-626060bf121c",
   "metadata": {},
   "outputs": [],
   "source": [
    "new_articles = crawler.crawl_all_sources()"
   ]
  },
  {
   "cell_type": "code",
   "execution_count": 50,
   "id": "a0814a99-5b99-496a-9ba5-b68ef5af6a06",
   "metadata": {},
   "outputs": [],
   "source": [
    "articles_clean = article_objs = [\n",
    "            Article(\n",
    "                id=a.get(\"id\"),\n",
    "                source=a.get(\"source\"),\n",
    "                title=a.get(\"title\"),\n",
    "                body=a.get(\"body\", \"\"),\n",
    "                published_at=a.get(\"published_at\"),\n",
    "            )\n",
    "            for a in new_articles\n",
    "        ]"
   ]
  },
  {
   "cell_type": "code",
   "execution_count": 64,
   "id": "190c271f-e867-4084-ae44-ccad55b4b772",
   "metadata": {},
   "outputs": [],
   "source": [
    "labels, embeddings = filter.relevant_articles(articles_clean)"
   ]
  },
  {
   "cell_type": "code",
   "execution_count": 65,
   "id": "2acc7f89-eb4b-4a7d-bc07-82fd8567ee4a",
   "metadata": {},
   "outputs": [
    {
     "data": {
      "text/plain": [
       "31"
      ]
     },
     "execution_count": 65,
     "metadata": {},
     "output_type": "execute_result"
    }
   ],
   "source": [
    "sum([1 for label in labels if label])"
   ]
  },
  {
   "cell_type": "code",
   "execution_count": 56,
   "id": "29bfa1ff-5502-4868-9276-bc2f49d10c19",
   "metadata": {},
   "outputs": [],
   "source": [
    "processed_articles_new = []\n",
    "for article in new_articles:\n",
    "    result = classifier.classify_article(article)\n",
    "    processed_article = {\n",
    "        \"article\": article,\n",
    "        \"classification\": result\n",
    "    }\n",
    "    processed_articles_new.append(processed_article)"
   ]
  },
  {
   "cell_type": "code",
   "execution_count": 57,
   "id": "5e161ebd-d4f6-417b-9bb5-9b2755c45e6c",
   "metadata": {},
   "outputs": [],
   "source": [
    "relevant_llm = [article for article in processed_articles_new if article[\"classification\"][\"relevant\"]]"
   ]
  },
  {
   "cell_type": "code",
   "execution_count": 58,
   "id": "bc1eefb2-4e0c-4a0a-8433-444f44abc465",
   "metadata": {},
   "outputs": [
    {
     "data": {
      "text/plain": [
       "24"
      ]
     },
     "execution_count": 58,
     "metadata": {},
     "output_type": "execute_result"
    }
   ],
   "source": [
    "len(relevant_llm)"
   ]
  },
  {
   "cell_type": "code",
   "execution_count": 59,
   "id": "16395a44-e61c-4832-947e-5d9846d36818",
   "metadata": {},
   "outputs": [
    {
     "data": {
      "text/plain": [
       "110"
      ]
     },
     "execution_count": 59,
     "metadata": {},
     "output_type": "execute_result"
    }
   ],
   "source": [
    "len(processed_articles_new)"
   ]
  },
  {
   "cell_type": "code",
   "execution_count": 66,
   "id": "87224e52-955e-4a99-92a2-28a8501d575c",
   "metadata": {},
   "outputs": [],
   "source": [
    "relevant_articles_new = [a for a, is_relevant in zip(articles_clean, labels) if is_relevant ] # Keep only articles considered relevant\n",
    "relevant_articles_embedded_new = [emb_a for emb_a, is_relevant in zip(embeddings, labels) if is_relevant] # Same for the embeddings"
   ]
  },
  {
   "cell_type": "code",
   "execution_count": 73,
   "id": "41315ce7-49b5-44a3-9184-f9fdaf6befae",
   "metadata": {},
   "outputs": [],
   "source": [
    "importance_score_new = filter.importance_score(relevant_articles_embedded_new)"
   ]
  },
  {
   "cell_type": "code",
   "execution_count": 75,
   "id": "ae63040a-bc94-4c60-906a-6a3c1bdf00f2",
   "metadata": {},
   "outputs": [
    {
     "data": {
      "text/plain": [
       "31"
      ]
     },
     "execution_count": 75,
     "metadata": {},
     "output_type": "execute_result"
    }
   ],
   "source": [
    "len(importance_score_new)"
   ]
  },
  {
   "cell_type": "code",
   "execution_count": 80,
   "id": "2e745d95-af9e-4238-86cf-3f97efeca8e2",
   "metadata": {},
   "outputs": [],
   "source": [
    "for art, score in zip(relevant_articles_new, importance_score_new):\n",
    "    art.importance_score = float(score)"
   ]
  },
  {
   "cell_type": "code",
   "execution_count": 81,
   "id": "7fe267c5-13a4-4e70-87a3-94579c440fc9",
   "metadata": {},
   "outputs": [
    {
     "data": {
      "text/plain": [
       "[Article(id='https://arstechnica.com/security/2025/07/critical-citrixbleed-2-vulnerability-has-been-under-active-exploit-for-weeks/', title='Critical CitrixBleed 2 vulnerability has been under active exploit for weeks', body='Exploits allow hackers to bypass 2FA and commandeer vulnerable devices.', published_at='Wed, 09 Jul 2025 11:20:24 +0000', url='', source='arstechnica', created_at='', importance_score=0.48878554937545104),\n",
       " Article(id='https://arstechnica.com/security/2025/07/no-honor-among-thieves-ms-hacking-group-starts-turf-war/', title='“No honor among thieves”: M&S hacking group starts turf war', body='A clash between criminal ransomware groups could result in victims being extorted twice.', published_at='Mon, 07 Jul 2025 18:12:10 +0000', url='', source='arstechnica', created_at='', importance_score=0.2844433227600779),\n",
       " Article(id='https://arstechnica.com/security/2025/06/mexican-drug-cartel-hacked-fbi-officials-phone-to-track-informant-report-says/', title='Drug cartel hacked FBI official’s phone to track and kill informants, report says', body='Official was connected to FBI probe of cartel kingpin Joaquín “El Chapo” Guzmán.', published_at='Mon, 30 Jun 2025 19:57:49 +0000', url='', source='arstechnica', created_at='', importance_score=0.365069114682439),\n",
       " Article(id='https://arstechnica.com/security/2025/06/active-exploitation-of-ami-management-tool-imperils-thousands-of-servers/', title='Actively exploited vulnerability gives extraordinary control over server fleets', body='AMI MegaRAC used in servers from AMD, ARM, Fujitsu, Gigabyte, and Qualcomm.', published_at='Thu, 26 Jun 2025 22:52:42 +0000', url='', source='arstechnica', created_at='', importance_score=0.4293619192510303),\n",
       " Article(id='https://arstechnica.com/security/2025/06/suspected-china-state-hackers-exploited-patched-flaw-to-breach-canadian-telecom/', title='Canadian telecom hacked by suspected China state group', body='Maximum-security Cisco vulnerability was patched Oct. 2023 and exploited Feb. 2025.', published_at='Mon, 23 Jun 2025 19:21:42 +0000', url='', source='arstechnica', created_at='', importance_score=0.5166212694047492),\n",
       " Article(id='686bf329fab7414bbdc4ca36', title=\"McDonald’s AI Hiring Bot Exposed Millions of Applicants' Data to Hackers Using the Password ‘123456’\", body='Basic security flaws left the personal info of tens of millions of McDonald’s job-seekers vulnerable on the “McHire” site built by AI software firm Paradox.ai.', published_at='Wed, 09 Jul 2025 19:28:50 +0000', url='', source='wired', created_at='', importance_score=0.3133284439396812),\n",
       " Article(id='6862ad7c439f7545a1b332ab', title='Android May Soon Warn You About Fake Cell Towers', body='Plus: Iran-linked hackers threaten to release Trump campaign emails, Chinese hackers still in US telecoms networks, and an abusive deepfake website plans an expansion.', published_at='Sat, 05 Jul 2025 10:30:00 +0000', url='', source='wired', created_at='', importance_score=0.33219889460380386),\n",
       " Article(id='6866b64a9e40e9b004a8b7f4', title='The Person in Charge of Testing Tech for US Spies Has Resigned', body='IARPA director Rick Muller is departing after just over a year at the R&D unit that invests in emerging technologies of potential interest to agencies like the NSA and the CIA, WIRED has learned.', published_at='Thu, 03 Jul 2025 20:50:33 +0000', url='', source='wired', created_at='', importance_score=0.41157202691539135),\n",
       " Article(id='686542bf7488288d518f2c3c', title='CBP Wants New Tech to Search for Hidden Data on Seized Phones', body='Customs and Border Protection is asking companies to pitch tools for performing deep analysis on the contents of devices seized at the US border.', published_at='Thu, 03 Jul 2025 17:19:59 +0000', url='', source='wired', created_at='', importance_score=0.3363886217124512),\n",
       " Article(id='6862a9103c91b8b39fc11b56', title='A Group of Young Cybercriminals Poses the ‘Most Imminent Threat’ of Cyberattacks Right Now', body='The Scattered Spider hacking group has caused chaos among retailers, insurers, and airlines in recent months. Researchers warn that its flexible structure poses challenges for defense.', published_at='Wed, 02 Jul 2025 17:56:04 +0000', url='', source='wired', created_at='', importance_score=0.348326868950252),\n",
       " Article(id='6862c67cfd72c117e6108db0', title='Identities of More Than 80 Americans Stolen for North Korean IT Worker Scams', body='The US Justice Department revealed the identity theft number along with one arrest and a crackdown on “laptop farms” that allegedly facilitate North Korean tech worker impersonators across the US.', published_at='Mon, 30 Jun 2025 20:00:39 +0000', url='', source='wired', created_at='', importance_score=0.36732480568938347),\n",
       " Article(id='685ebc99c55f1273d9de7eff', title=\"ICE Rolls Facial Recognition Tools Out to Officers' Phones\", body='Plus: US feds charge alleged masterminds behind infamous forum, Scattered Spider targets airlines, and hackers open a valve at a Norwegian dam.', published_at='Sat, 28 Jun 2025 10:30:00 +0000', url='', source='wired', created_at='', importance_score=0.29569412301032366),\n",
       " Article(id='68470d22ba6b2eb46def4f50', title=\"‘They're Not Breathing’: Inside the Chaos of ICE Detention Center 911 Calls\", body='Records of hundreds of emergency calls from ICE detention centers obtained by WIRED—including audio recordings—show a system inundated by life-threatening incidents, delayed treatment, and overcrowding.', published_at='Wed, 25 Jun 2025 21:21:09 +0000', url='', source='wired', created_at='', importance_score=0.26700982394356637),\n",
       " Article(id='685854b4ad25f261b23770e4', title=\"What Satellite Images Reveal About the US Bombing of Iran's Nuclear Sites\", body='The US concentrated its attack on Fordow, an enrichment plant built hundreds of feet underground. Aerial photos give important clues about what damage the “bunker-buster” bombs may have caused.', published_at='Sun, 22 Jun 2025 21:41:46 +0000', url='', source='wired', created_at='', importance_score=0.3356569166939396),\n",
       " Article(id='68574defb79efff56e3983be', title='Truth Social Crashes as Trump Live-Posts Iran Bombing', body='The social network started experiencing global outages within minutes of Donald Trump posting details of a US military strike on Iran.', published_at='Sun, 22 Jun 2025 01:10:32 +0000', url='', source='wired', created_at='', importance_score=0.33008517712701024),\n",
       " Article(id='68559d81b36c5dcc93f53457', title='Israel Says Iran Is Hacking Security Cameras for Spying', body='Plus: Ukrainian hackers reportedly knock out a key Russian internet provider, China’s Salt Typhoon hackers claim another victim, and the UK hits 23andMe with a hefty fine over its 2023 data breach.', published_at='Sat, 21 Jun 2025 10:00:00 +0000', url='', source='wired', created_at='', importance_score=0.37943177683038565),\n",
       " Article(id='G3YfkecqwtMNQHHi9ikdEF', title='Intel axes thousands of technicians and engineers in sweeping U.S. layoffs — cutting 4,000 positions in the U.S., 2,392 in Oregon', body='Intel is cutting 2,392 jobs in Oregon, with about 4,000 nationwide, mostly affecting technicians and engineers, despite claims of targeting managers, as part of a broader push for automation and decentralization.', published_at='Sun, 13 Jul 2025 15:30:52 +0000', url='', source='tomshardware', created_at='', importance_score=0.34044727362007154),\n",
       " Article(id='PpBP5DBKBxWN4k4Sv6DSuF', title=\"McDonald's McHire bot exposed personal information of 64M people by using '123456' as a password in 2025\", body=\"A pair of security researchers have revealed vulnerabilities in the McHire chatbot Paradox developed for McDonald's that could have been exploited to reveal personal information about roughly 64 million people who have used the service to apply for jobs at their local franchises. (Hat-tip Wired.)\", published_at='Sun, 13 Jul 2025 13:09:27 +0000', url='', source='tomshardware', created_at='', importance_score=0.27726244394672017),\n",
       " Article(id='5LVuCCvB77rLJa6VCTKRKh', title='This new SSD will literally self destruct if you push the big red button it comes with — Team Group posts video of data destruction in action', body=\"Team Group's new M.2 2280 SSD comes with a big red button. Hold it one second too long, and it destroys your NAND instead of just erasing the data.\", published_at='Sat, 12 Jul 2025 10:00:00 +0000', url='', source='tomshardware', created_at='', importance_score=0.2633272015963591),\n",
       " Article(id='https://www.computerweekly.com/news/366627640/Luxury-retailer-LVMH-says-UK-customer-data-was-stolen-in-cyber-attack', title='Luxury retailer LVMH says UK customer data was stolen in cyber attack', body='UK customers of luxury goods brand\\nLouis Vuitton\\nhave been warned to be on their guard against opportunist fraud attempts after their data was compromised in a\\ncyber attack\\non the retailer.\\nIn an email sent to customers\\n, Louis Vuitton revealed that its IT systems were accessed on 2 July 2025 by an unauthorised third party, who was able to obtain data including names, contact details and purchasing histories – all data of use to cyber criminals. Louis Vuitton said that bank and credit card details were not affected.\\nComputer Weekly understands Louis Vuitton is engaged with the UK authorities and has informed the Information Commissioner’s Office (ICO) of the incident.\\nThis is the third incident disclosed by Louis Vuitton’s parent, French luxury goods house LVMH, in recent months.\\nEarlier in July, Louis Vuitton Korea also revealed it had fallen victim to a cyber intrusion, while two of the organisation’s other high-profile labels, Christian Dior Couture and Tiffany,\\nreported an attack in May\\n.\\nThe organisation also operates other iconic beauty, fashion and luxury goods brands including Bulgari, Givenchy, Fendi, Loewe, Marc Jacobs, Moët & Chandon, Sephora, and TAG Heuer.\\nA link to other attacks is possible\\nThe nature of LVMH’s business and the timing of the incidents will draw speculation of a link to the Scattered Spider hacking collective that\\nattacked Marks & Spencer\\n(M&S), Co-op Group and Harrods, and is potentially behind an ongoing incident at\\nAustralian airline Qantas\\n.\\nFour people accused of involvement in the M&S cyber attack, including a 17-year-old boy, were\\narrested and taken into custody in the UK\\nlast week.\\nThe Scattered Spider gang makes a habit of selecting one industry vertical at a time to attack, often through specialist third-party suppliers with access to systems in multiple organisations.\\nGiven other incidents occurred at LVMH broadly in line with the M&S attack, a link should not necessarily be ruled out at this stage, and it is likely investigators will be pursuing this angle.\\n“The pattern of other LVMH regionals being compromised in similar ways might be indicative of a larger problem,” said Thomas Richards, infrastructure security practice director at\\nBlack Duck\\n.\\n“The breach might not be fully contained, or these business units use similar technology and systems that have a vulnerability in it,” he added. “LVMH should conduct an organisation-wide security assessment to determine the root cause and implement recommended changes to prevent further breaches and ensure uncompromised trust in their software.”\\nHigh-net-worth individuals\\nImmersive\\nfounder and chief innovation officer James Hadley said the spate of cyber attacks on LVMH properties could prove hugely damaging to the group’s reputation.\\n“Louis Vuitton’s core customer base includes high-net-worth individuals; therefore, customers would have expected extra precautions to be taken to protect their personal information,” he said.\\n“The personal information of high-profile individuals is perceived as more valuable by cyber criminals, and with the recent string of retail breaches, attackers may have felt emboldened.”\\nRead more on this story\\n22 April 2025:\\nA cyber attack at M&S has caused significant disruption to customers, leaving them unable to make contactless payments\\nor use click-and-collect services\\n.\\n24 April:\\nM&S is still unable to provide contactless payment or click-and-collect services amid a cyber attack that it says has forced it to move a number of processes offline\\nto safeguard its customers, staff and business\\n.\\n25 April:\\nM&S shuts down online sales as it works to contain and mitigate\\na severe cyber attack on its systems\\n.\\n29 April:\\nAn infamous hacking collective may have been behind the ongoing cyber attack on M&S that has crippled systems at the retailer and\\nleft its ecommerce operation in disarray\\n.\\n30 April:\\nA developing cyber incident at Co-op has forced the retailer to pull the plug on some of its IT systems as it works\\nto contain the attack\\n.\\n1 May:\\nCo-op tells staff to stop using their VPNs and be wary that their communications channels may be being monitored, as a cyber attack on the organisation\\ncontinues to develop\\n.\\n1 May:\\nHarrods confirms it is the latest UK retailer to experience a cyber attack, shutting off a number of systems in an attempt\\nto lessen the impact\\n.\\n2 May:\\nThe National Cyber Security Centre confirms it is providing assistance to M&S, Co-op and Harrods as\\nconcerns grow among UK retailers\\n.\\n7 May:\\nNo end is yet in sight for UK retailers subjected to apparent\\nransomware attacks\\n.\\n13 May:\\nM&S is instructing all of its customers to change their account passwords after a significant amount of data was stolen\\nin a DragonForce ransomware attack\\n.\\n14 May:\\nGoogle’s threat intel analysts are aware of a number of in-progress cyber attacks against US retailers linked to the same gang\\nthat supposedly attacked M&S and Co-op in the UK\\n.\\n20 May:\\nCold chain services provider Peter Green Chilled, which supplies the likes of Aldi, Sainsbury’s and Tesco, has been forced to halt operations\\nafter succumbing to a ransomware attack\\n.\\n11 June:\\nSo-called Black Swan events expose the blind spots in even the most sophisticated forecasting models, signaling a need to rethink how businesses, and those investing in them, quantify\\nand prepare for cyber risk\\n.\\n13 June:\\nThe recent spate of cyber attacks on UK retailers has to be a wake-up call to build more cyber resilience into digital supply chains and\\nfortify against social engineering attacks\\n.\\n17 June:\\nFollowing a series of high-profile attacks on prominent retailers and consumer brands, a group of criminal hackers appears to be\\nexpanding their targeting to the insurance sector\\n.\\n20 June:\\nThe UK’s Cyber Monitoring Centre has published its first in-depth assessment of a major incident, reflecting on the impact of and lessons learned from\\ncyber attacks on M&S and Co-op\\n.\\n27 June:\\nMultiple reports are emerging of cyber attacks on airlines – Google Cloud’s Mandiant\\nbelieves them to be linked\\n.\\n2 July:\\nAustralian flag carrier Qantas is investigating significant data theft of personal information for up to 6 million customers after a third-party platform\\nused by its call centre was compromised\\n.\\n2 July:\\nA developing cyber attack at Australian airline Qantas that started at a third-party call centre is already being tentatively attributed to the same gang that hit UK retailers.\\nFind out more and learn about the next steps for those affected\\n.\\n8 July:\\nThe government should extend ransomware reporting mandates to businesses to help gather more intelligence and better support victims,\\nsays M&S chairman Archie Norman\\n.\\n9 July:\\nAustralian flag carrier begins notifying millions of individuals after a cyber attack on a call centre, confirming that while financial and passport details are safe, a significant volume of other personal information\\nwas compromised\\n.\\n10 July:\\nPolice have made four arrests in connection with a trio of cyber attacks on UK retailers\\nMarks & Spencer, Co-op and Harrods\\n.', published_at='Mon, 14 Jul 2025 10:45:00 GMT', url='', source='computerweekly', created_at='', importance_score=0.3640839330310203),\n",
       " Article(id='https://www.computerweekly.com/news/366627601/Technology-fuels-successful-FCA-fight-against-unauthorised-financial-services', title='Technology fuels successful FCA fight against unauthorised financial services', body='The\\nFinancial Conduct Authority\\n(FCA) has shut down 1,600 websites and 50 finance apps through the use of data and technology, as well as collaboration with big tech firms.\\nWith fintech increasing the availability of financial products and unauthorised financial social media-based advisors increasing in number, in 2022, the FCA\\nturned to technology to help it protect consumers\\n, and it’s now reaping positive results.\\nIn its annual report, the FCA said the websites and apps on Apple Store and Google Pay were identified and shut down during 2024, as part of its tech-led strategy to “block fraud at source”.\\nThe regulator scans hundreds of thousands of websites every day, using the latest technology to identify those that could cause consumers financial harm.\\nNikhil Rathi, CEO of the FCA, said the regulator has “embraced data and technology to crack down on harm and ensure high standards”.\\nIt was in July 2022 when the FCA announced that rather than react to problems after consumers have been affected, technology was improving the regulator’s use of analytics to gain insights and prevent future problems. The websites blocked were suspected of promoting financial services without permission, while the FCA worked with tech giants to identify apps offering unauthorised services.\\nDuring 2024, the FCA also discovered 20,000 non-compliant financial products offered by authorised firms, which led to them being amended or withdrawn. It also targeted illegal financial promotions by\\nunauthorised ‘finfluencers’\\n, cancelling the authorisations of over 1,500 firms last year, which was 20% more than in 2023.\\nRead more about the FCA’s work\\nFinancial services regulator\\nproposes artificial intelligence testing environment as part of its AI Lab\\n.\\nSocial media is becoming a major part of the FCA’s work\\nin clamping down on misleading financial advertising and promotions, with multiple influencers rapped for their behaviour.\\nUK financial services regulator wants technology professionals to\\njoin its team fighting online fraud\\n.\\nTechnology is at the core of the FCA’s fight against unauthorised online and app-based financial advice. In a speech at the Peterson Institute of International Economics three years ago, the FCA chief executive said technology was helping the regulator take a more proactive stance, and “spot harm and intervene more quickly and more broadly”.\\nFor example, the FCA moved systems to the cloud as part of a project to put 50,000 finance firms and thousands of users onto a new regulatory data platform.\\nRathi said at the time: “Using our data lake, we aim to more swiftly identify, connect and react to firm and market issues,” said Rath. “Our analytics tools are speeding up case management and providing improved visibility of risk in each firm.”\\nFollowing the publication of the latest annual report, Rathi said: “We’ve embraced data and technology to crack down on harm and ensure high standards. We’re ambitious for the future, and committed to enabling a fair and thriving financial services market for the good of consumers and the economy.”\\nFCA chair Ashley Alder added: “Our annual report shows how we’ve laid the strongest possible foundation from which to implement our new strategy. We’ll build on this over the next five years to deepen trust and rebalance risk so we can support growth and improve lives.”\\nDuring the past year, the FCA said it has fined two banks over £45m for financial crime failures on sanction controls and screening, and monitoring of money laundering risks.\\nIt said it has issued 2,240 alerts about unauthorised firms and individuals, interviewed 20 unauthorised influencers under caution for illegally promoting financial products and issued 38 alerts against finfluencer social media accounts.', published_at='Mon, 14 Jul 2025 09:45:00 GMT', url='', source='computerweekly', created_at='', importance_score=0.32721919436280483),\n",
       " Article(id='https://www.computerweekly.com/news/366627637/MoD-supply-chain-cyber-scheme-gets-up-and-running', title='MoD supply chain cyber scheme gets up and running', body='Construction business\\nMorgan Sindall\\nhas become the first UK organisation to achieve certification under a scheme set up by the\\nMinistry of Defence\\n(MoD) and certification body\\nIASME\\n.\\nThe Defence Cyber Certification (DCC) was established in a bid to improve supply chain security across the nation, and strengthen the UK’s overall resilience in the face of near-constant cyber attacks orchestrated via victims’\\nsupply chain suppliers\\n– recent incidents affecting retailers\\nMarks & Spencer, Co-op Group and Harrods\\nbeing good examples of such.\\nAccording to a 2024 Thales report, over 90% of organisations working around critical national infrastructure (CNI) have experienced an increase in attempted and successful cyber attacks.\\nThe DCC project was designed as a proactive response to this, and will ensure that all organisations working in the MoD’s supply chain – of which Morgan Sindall is one, working extensively with the department on a project\\nto revitalise Britain’s military housing stock\\nand other facilities across the MoD’s estate – are equipped to defend against cyber risks.\\nThe organisation also works extensively on public infrastructure projects, with some noteworthy recent builds including upgrades to the A421 in Milton Keynes, an extension to the London Overground rail line in Barking, and the replacement of overhead power lines with underground cabling in Dorset.\\nAs such, it is considered a key target for threat actors targeting sectors such as transport and utility providers.\\n“Defence Cyber Certification (DCC) strengthens cyber resilience in the UK’s defence supply chain,” said Eleanor Fairford, director of cyber defence and risk, at the MoD. “Organisations obtaining and maintaining DCC prove their ongoing commitment to UK defence.”\\nMulti-level certification\\nThe DCC certification itself is designed to emphasise the overall security and resilience of the receiving organisation, and has been structured in four tiers, L0 to L3, each corresponding to a specific degree of cyber risk, depending on what role the organisation plays in the MoD supply chain.\\nThe scheme is being rolled out in a phased manner – currently only L0 is available, with L1 coming on-stream at the end of August 2025. Levels L2 and L3 – which set rigorous standards designed for organisations facing the highest levels of cyber risk – will become available at the end of July.\\nThe assessment process for DCC certification will include a point-in-time assessment against UK defence standards, compliance with which is soon to become a requirement in all defence procurement and contract activities. This assessment will enable organisations to demonstrate a “clear, future-focused” approach to cyber resilience that they can then submit in satisfaction of MoD contract requirements, and use as a means to demonstrate their expertise to other potential customers.\\nWhen it comes to future procurement exercises, the MoD will assign a required level for suppliers working on different contracts – however, businesses interested in bidding will not be limited in the certification level for which they apply. Indeed, they can apply for certification at any level they wish, even if they are not currently working on any MoD business.\\nThe scheme’s backers said they hoped this level of flexibility would enable organisations to better demonstrate their commitment to ongoing resilience, prepare for future opportunities in advance, and avoid the need to go through repeat assessments over and over.\\nRead more about supply chain security\\nRecent updates from software supply chain security vendors simply take over vulnerability management on behalf of IT orgs,\\nrather than provide facilitating tools\\n.\\nMany businesses around the world are taking the decision to alter their supplier mix in the face of tariff uncertainty, but in doing so are creating more cyber risks for themselves,\\naccording to a report\\n.\\nThree software supply chain security vendors join the AI agent trend that is sweeping tech, as AI-generated code\\nthreatens to overwhelm human security pros\\n.\\nThe programme also aligns with wider cyber best practice, with all levels requiring organisations to already hold the National Cyber Security Centre’s (NCSC’s)\\nCyber Essentials\\nbadge – levels two and three will require Cyber Essentials Plus certification once they are launched.\\n“We are thrilled to collaborate with the Ministry of Defence on the Defence Cyber Certification scheme and very grateful to the cyber security experts who have been so generous with their time to help us develop the scheme,” said IASME chief executive Emma Philpott.\\nHannah Clarke-Dabson, principal consultant at CNI cyber specialist Bridewell, who was involved in creating the guidance for the DCC scheme, added: “Bridewell is excited to continue supporting the evolution of the DCC scheme as it gains traction across the defence supply chain.\\n“From the outset, we have been working closely with IASME, defence suppliers and key stakeholders from across the industry to help shape the future of the DCC scheme and ensure that we, as a DCC Certification Body, are actively supporting and guiding organisations through the certification process,” she said.\\nOrganisations interested in participating are encouraged to visit the scheme’s homepage, hosted by IASME,\\nto learn more\\n.', published_at='Fri, 11 Jul 2025 11:26:00 GMT', url='', source='computerweekly', created_at='', importance_score=0.3744460135347539),\n",
       " Article(id='https://www.computerweekly.com/news/366627131/Government-funding-to-help-SMEs-protect-their-IP', title='Government funding to help SMEs protect their IP', body='Up to 500 UK small and medium-sized enterprises (SMEs) are in line to pick up a share of a government funding package designed to support them in protecting their\\nintellectual property\\n(IP) from hostile actors, whether they be larger competitors or state-backed threat actors.\\nIn exchange for a £500 buy-in, the\\nSecure Innovation Security Review\\n(SISR) scheme will see eligible businesses receive £2,500 worth of government support to help shore up their resilience.\\nThis support will include tailored risk guidance from approved experts, offering advice on strengthening onboarding checks for new employees to reduce instances of insider threat, and other key security measures to guard against cyber attacks. This will include site visits and assessments against a framework developed by the\\nNational Protective Security Authority\\n(NPSA) and the\\nNational Cyber Security Centre\\n(NCSC).\\n“States, state-backed competitors and cyber criminals target cutting-edge ideas and valuable data, exploiting gaps in cyber and protective security defences to launch attacks that can cripple organisations and steal their most sensitive innovations,” said NCSC chief executive Richard Horne.\\n“That’s why building resilience is no longer optional – it’s essential for business growth and survival,” he said. “I encourage SMEs across the UK to take advantage of the NCSC and NPSA-backed Secure Innovation Security Reviews scheme.”\\nCrucially, the support will be aimed at combating the efforts of certain states not always friendly to the UK to steal technological, economic or military secrets to enhance their own capabilities, rather than engaging in fair competition – China being the most frequently implicated foreign power\\nin such instances of theft\\n.\\nThe government said that such threats were becoming significantly more advanced than merely recruiting an insider to exploit physical access to a victim organisation, and underlined the importance of incorporating both kinetic and cyber security into one’s risk management strategy.\\nRead more about IP and technology\\nPublishers and other providers of creative content now have the option to block AI crawlers from accessing and scraping their intellectual property\\nwith new tools from Cloudflare\\n.\\nEnterprises are spending big bucks on developing and training proprietary AI models. But cyber criminals are also eyeing this\\nvaluable intellectual property\\n.\\nAI-generated content has been put on the legal chopping block. However, different interpretations of copyright laws can\\nblur the lines of ownership\\n.\\nIndeed, statistics produced by the NPSA recently showed that just 39% of such organisations have only one protective security or cyber measure in place, and 55% do not conduct pre-screening of new personnel.\\n“Small businesses are the lifeblood of our economy and they need security to thrive,” said security minister Dan Jarvis. “With 98% of businesses reporting a lack of knowledge to identify security threats, it is crucial they are equipped with the tools necessary to protect themselves against increasingly volatile threats.\\n“This initiative supports businesses to build the skills and the confidence they need to grow,” he said.\\nTo take part, organisations must employ under 250 people and operate in one of the sensitive sectors set out in the National Security and Investment Act of 2021, or Invest 2035 – these include areas such as artificial intelligence, life sciences, advanced semiconductor development, renewable energy and more.\\nRobert Shaw,\\nInnovate UK\\nexecutive director of strategy and performance, said: “Innovate UK is proud to be a partner in delivering Security Reviews for spinouts and startups in such critical sectors.\\n“If these innovators can protect valuable intellectual property and their competitive edge, and demonstrate their commitment to security to investors and customers, they will be better placed to realise their growth potential in the UK, and globally,” he said.', published_at='Thu, 10 Jul 2025 11:30:00 GMT', url='', source='computerweekly', created_at='', importance_score=0.3206239904968969),\n",
       " Article(id='https://www.computerweekly.com/news/366627201/UK-and-France-forge-closer-cyber-tech-research-ties', title='UK and France forge closer cyber, tech research ties', body='British and French researchers are teaming up to work on improving the resilience of various technology tools and systems used by\\ncritical national infrastructure\\n(CNI) suppliers – including utilities and emergency services – against various security threats.\\nThe technology in scope of the agreement, announced during a\\nstate visit from French president Emmanuel Macron\\n, includes positioning, navigation and timing (PNT) systems that such organisations rely on, and forms part of a wider suite of joint science and tech work being formalised between London and Paris.\\nFrom electricity infrastructure to transport to financial transactions, disruption to PNT systems can have significant cascading effects across societies, and the Department for Science, Innovation and Technology (DSIT) said the Ukraine war had shown how such systems have been deliberately targeted with signal-jamming by Russian threat actors.\\n“France and the UK both have huge ambitions for technology to boost economic growth and strengthen national security,” said science and technology secretary Peter Kyle.\\n“It is vital we work with natural partners like our French neighbours in these endeavours, particularly as the threat from hostile state actors only grows.\\n“Today we build on the\\nEntente cordiale\\nwith an\\nEntente technologique\\n, celebrating and renewing our longstanding and historic partnership so that together we can face down the challenges of tomorrow.”\\nGPS backup\\nOne application already being explored by the British government, working with the\\nNational Physical Laboratory\\nand private sector experts, is enhanced long-range radio navigation, or e-Loran, which uses ground-based radio towers to provide a backup to global positioning system (GPS) satellite navigation should it become degraded.\\nE-Loran uses a tried-and-tested technique called\\nhyperbolic navigation\\nwhereby a receiver determines its location based on the timing of signals received from various points.\\nE-Loran can compete well enough in terms of accurate positioning with GPS, and as such is coming to be considered a potentially life-saving backup for the system, which is currently operated by the\\nUnited States Space Force\\n.\\nWider than cyber\\nThe\\nEntente Technologique\\ndoes not, however, stop at cyber security. Britain and France have also launched a supercomputing partnership between the\\nBristol Centre for Supercomputing at the University of Bristol\\n–\\nwhich is home to the Isambard-AI project\\n– and France’s\\nGrand équipement national de calcul intensif\\n, which supports approximately 10,000 high-performance computing and artificial intelligence (AI) projects.\\nThe government said that closer ties between the UK and France’s world-leading computing power and the sharing of AI best practice would build on existing collaborations, turbocharge future breakthroughs and transform public services, building on its\\nAI opportunities action plan\\n.\\nThree further agreements have also been signed today, during a joint visit by Kyle and Macron to\\nImperial College London\\n, between Imperial and\\nCNRS Ayrton Blériot Engineering Lab\\n;\\nUniversity College London\\n; the\\nInstitut national de recherche en sciences et technologies du numérique\\n;\\nOxford\\n;\\nCambridge\\n;\\nHEC\\n;\\nInstitut Polytechnique de Paris\\n; and\\nUniversité Paris-Saclay\\n.\\nAlongside the research agreements, a number of private sector companies have also been highlighted. These include collaborations between\\nSynthesia\\n, a London-based AI video specialist, and French sports retailer\\nDecathlon\\n, which are working on an AI avatar lab to enable the latter to communicate with customers and employees, and\\nDarktrace\\n, which is working with events operator\\nGL Events\\n, which played a key role in the 2024 Paris Olympics, among other things.\\nIn the opposite direction, French aerospace, defence and tech company Thales is planning to pump £40m of investment into a UK AI accelerator,\\nCortAIx\\n, while\\nComand AI\\n, a Paris-based specialist in AI-based defence and security, hopes to spend £35m between now and 2030 to establish a UK base of operations.\\nRead more about government support for tech innovation\\nResearch and development is one of the main areas of focus for Labour’s plan for change\\nas it readies its Industrial Strategy\\n.\\nAs part of Horizon 2020, the UK recently signed up to an EU initiative to support the expansion of\\nhigh-performance computing for AI\\n.\\nAfter pulling the plug on plans by the previous government to build a supercomputer in Edinburgh, the Department for Science, Innovation and Technology commits £750m\\nto a very similar initiative\\n.', published_at='Thu, 10 Jul 2025 10:30:00 GMT', url='', source='computerweekly', created_at='', importance_score=0.5245187385737862),\n",
       " Article(id='https://www.computerweekly.com/news/366627353/Four-arrested-in-MS-cyber-attack-investigation', title='Four arrested in M&S cyber attack investigation', body='Four people have been arrested and taken into custody across the UK in a\\nNational Crime Agency\\ninvestigation into the April and May 2025 cyber attacks on\\nMarks & Spence\\nr (M&S),\\nCo-op Group\\nand\\nHarrods\\n.\\nThe arrests of two men aged 19, a third aged 17 and a 20-year-old woman were made at their home addresses in London, Staffordshire and the West Midlands, with support from West Midlands Regional Organised Crime Unit (Rocu) and the East Midlands Special Operations Unit.\\nThe four are suspected of offences under the\\nComputer Misuse Act of 1990\\n, blackmail, money laundering and participating in the activities of an organised crime group. A number of electronic devices have been seized for forensic analysis.\\nThe attacks, which unfolded in the space of around 10 days during the spring, saw cyber criminals gain access to the victimised retailers’ systems\\nvia social engineering tactics\\n, potentially involving a common\\nthird-party supplier\\n. For M&S, it resulted in the suspension of online shopping and disruption to food deliveries as IT security staff worked overtime and slept in the office at the height of the chaos. Nearly three months on, the retailer has still not made a full recovery. Co-op and Harrods, meanwhile, proved to be somewhat more resilient and were affected to a lesser degree.\\n“Since these attacks took place, specialist NCA cyber crime investigators have been working at pace and the investigation remains one of the agency’s highest priorities,” said NCA National Cyber Crime Unit deputy director Paul Foster.\\n“Today’s arrests are a significant step in that investigation but our work continues, alongside partners in the UK and overseas, to ensure those responsible are identified and brought to justice,” he said.\\nGiven the ongoing and highly vulnerable nature of its investigation, which spans multiple law enforcement agencies from other countries, the NCA is playing its cards close to its chest, and for this reason further details of the arrests are more limited than usual.\\nComputer Weekly understands all four individuals – none of whom can be named at the present time – are considered vulnerable and present various concerns from a safeguarding perspective. Additionally, none of them have yet been charged or convicted or any offences, and their right to a fair trial is sacrosanct.\\nAlthough the arrests are all linked to the three distinct attacks, a firm attribution to the cyber crime collective that has been widely linked to the incidents cannot be made at this time, and nor should any link to any other recent attacks yet be inferred.\\nPositive development\\nThe NCA thanked all three organisations, M&S, Co-op and Harrods, for their support of the wider investigation that has led to this point.\\n“Hopefully, this signals to future victims the importance of seeking support and engaging with law enforcement as part of the reporting process. The NCA and policing are here to help,” said Foster.\\nFollowing candid evidence\\npresented by M&S chairman Archie Norman\\nbefore a Parliamentary sub-committee this week, Foster told Computer Weekly that he wanted to encourage more open dialogue around cyber attacks.\\n“It was good to see Archie Norman speak so openly,” he said. “I do welcome the policy narrative, the public narrative and the discussion, and I hope that is something that my team and others can use going forwards to help keep the public safer from cyber crime in the future.”\\nCharles Carmakal, chief technology officer for\\nMandiant Consulting\\nat Google Cloud, who has been investigating the string of cyber attacks as they unfolded, hailed a “significant win” in the fight against the hackers.\\n“Their aggressive social engineering tactics and relentless pursuit of access have proven particularly challenging for many defenders and resulted in considerable damage to organisations in the UK and US,” said Carmakal.\\n“This action by law enforcement underscores the critical importance of international collaboration in combating cyber crime. Previous arrests have impacted their operations, causing a significant lull in activity. This is a critical window for organisations to fortify their defenses against this collective.”\\nRead more on this story\\n22 April 2025:\\nA cyber attack at M&S has caused significant disruption to customers, leaving them unable to make contactless payments\\nor use click-and-collect services\\n.\\n24 April:\\nM&S is still unable to provide contactless payment or click-and-collect services amid a cyber attack that it says has forced it to move a number of processes offline\\nto safeguard its customers, staff and business\\n.\\n25 April:\\nM&S shuts down online sales as it works to contain and mitigate\\na severe cyber attack on its systems\\n.\\n29 April:\\nAn infamous hacking collective may have been behind the ongoing cyber attack on M&S that has crippled systems at the retailer and\\nleft its ecommerce operation in disarray\\n.\\n30 April:\\nA developing cyber incident at Co-op has forced the retailer to pull the plug on some of its IT systems as it works\\nto contain the attack\\n.\\n1 May:\\nCo-op tells staff to stop using their VPNs and be wary that their communications channels may be being monitored, as a cyber attack on the organisation\\ncontinues to develop\\n.\\n1 May:\\nHarrods confirms it is the latest UK retailer to experience a cyber attack, shutting off a number of systems in an attempt\\nto lessen the impact\\n.\\n2 May:\\nThe National Cyber Security Centre confirms it is providing assistance to M&S, Co-op and Harrods as\\nconcerns grow among UK retailers\\n.\\n7 May:\\nNo end is yet in sight for UK retailers subjected to apparent\\nransomware attacks\\n.\\n13 May:\\nM&S is instructing all of its customers to change their account passwords after a significant amount of data was stolen\\nin a DragonForce ransomware attack\\n.\\n14 May:\\nGoogle’s threat intel analysts are aware of a number of in-progress cyber attacks against US retailers linked to the same gang\\nthat supposedly attacked M&S and Co-op in the UK\\n.\\n20 May:\\nCold chain services provider Peter Green Chilled, which supplies the likes of Aldi, Sainsbury’s and Tesco, has been forced to halt operations\\nafter succumbing to a ransomware attack\\n.\\n11 June:\\nSo-called Black Swan events expose the blind spots in even the most sophisticated forecasting models, signaling a need to rethink how businesses, and those investing in them, quantify\\nand prepare for cyber risk\\n.\\n13 June:\\nThe recent spate of cyber attacks on UK retailers has to be a wake-up call to build more cyber resilience into digital supply chains and\\nfortify against social engineering attacks\\n.\\n17 June:\\nFollowing a series of high-profile attacks on prominent retailers and consumer brands, a group of criminal hackers appears to be\\nexpanding their targeting to the insurance sector\\n.\\n20 June:\\nThe UK’s Cyber Monitoring Centre has published its first in-depth assessment of a major incident, reflecting on the impact of and lessons learned from\\ncyber attacks on M&S and Co-op\\n.\\n27 June:\\nMultiple reports are emerging of cyber attacks on airlines – Google Cloud’s Mandiant\\nbelieves them to be linked\\n.\\n2 July:\\nAustralian flag carrier Qantas is investigating significant data theft of personal information for up to 6 million customers after a third-party platform\\nused by its call centre was compromised\\n.\\n2 July:\\nA developing cyber attack at Australian airline Qantas that started at a third-party call centre is already being tentatively attributed to the same gang that hit UK retailers.\\nFind out more and learn about the next steps for those affected\\n.\\n8 July:\\nThe government should extend ransomware reporting mandates to businesses to help gather more intelligence and better support victims,\\nsays M&S chairman Archie Norman\\n.\\n9 July:\\nAustralian flag carrier begins notifying millions of individuals after a cyber attack on a call centre, confirming that while financial and passport details are safe, a significant volume of other personal information\\nwas compromised\\n.', published_at='Thu, 10 Jul 2025 07:47:00 GMT', url='', source='computerweekly', created_at='', importance_score=0.28922699931066415),\n",
       " Article(id='https://www.computerweekly.com/news/366627256/NAO-says-government-should-employ-data-analytics-to-tackle-fraud', title='NAO says government should employ data analytics to tackle fraud', body='Government departments have 28 data-sharing agreements in place to\\ndetect fraud\\n, but a report from the National Audit Office (NAO), has found there is insufficient focus on preventive measures.\\nThe authors of the NAO’s\\nUsing data analytics to tackle fraud and error\\nreport noted that integrating preventative controls into existing business processes often requires real-time data sharing and cleaning of data for the controls to flag or stop potentially incorrect payments. The NAO said most of the data analytics tools in use by the government are to detect potentially incorrect payments that have already been made, and are not part of front-line preventative controls.\\nThe NAO estimates that fraud and error cost the taxpayer between £55bn and £81bn in 2023-24. According to the report, data analytics can be deployed to make sure the right amount of money goes to the right recipient and to find potentially incorrect transactions.\\nThe report covers basic tools that check if payment to a supplier is not duplicated, to the use of emerging technology like artificial intelligence (AI) to identify risky transactions. “With good-quality linked data, these technologies can deliver more immediate returns on investment, tackling fraud and error without requiring the wider system or organisational reform that fuller digital transformation would require,” the NAO said.\\nThe report highlights\\npoor data sharing\\nand poor adoption of data sources, which can be used to help tackle fraud. The NAO noted that there has not been widespread take-up of central initiatives, such as the National Fraud Initiative, which compiles data to identify potentially fraudulent activity. The NAO was told that among the reasons for low adoption were a lack of understanding of such initiatives among officials and the cost.\\nIn addition, the NAO found that counter-fraud teams are not always aware of datasets that might help them tackle fraud and error. While the government is trying to improve the quality of some key datasets that have the potential to unlock better fraud and error analytics in future, the NAO reported that inconsistent data formats and systems make it harder to use data to tackle fraud and error.\\nIt recommended that HM Treasury make use of the National Fraud Initiative mandatory and agree with the Public Sector Fraud Authority (PSFA) the criteria for where public bodies should use other centrally provided tools. The NAO said HM Treasury and the PSFA should also review the charging model for PSFA central services to ensure they do not dissuade public bodies from making savings.\\nThe report’s authors noted that public bodies continue to find it difficult and bureaucratic to share data to help tackle fraud, even though it is permitted under legislation. But they warned that greater data sharing could lead to fraud being exploited across departments.\\n“As more data is shared and systems linked, the risk increases that fraudsters penetrate one system to take advantage of another,” they warned in the report.\\nThe NAO said the PSFA and the Government Digital Service (GDS) should build on the Digital Economy Act 2017 data-sharing process to introduce a managed process to support public bodies to share data. They should also advise public bodies on how to ensure clear ongoing governance arrangements over shared data to manage the risk of fraudsters gaining access to multiple systems through access to one. It also urged the PSFA to consider using non-government and private sector databases, such as the fraud databases produced by Cifas.\\nAlthough the GDS\\nBlueprint for modern digital government\\nsets out a vision for\\ngovernment digital transformation\\n, which covers the use of data analytics to tackle fraud and error, the NAO said it has not provided an implementation plan or considered that plan from the perspective of fraud and error data analytics.\\nRead more NAO report stories\\nUK government cyber resilience\\nweak in face of mounting threats: The National Audit Office has found UK government cyber resilience wanting, weakened by legacy IT and skills shortages, and facing mounting threats.\\nPublic sector IT projects –\\nstupendous incompetence\\nor bad luck? Recent National Audit Office report on failed government IT projects provides the channel with a roadmap to help drive success, but only if the public sector listens.', published_at='Wed, 09 Jul 2025 11:24:00 GMT', url='', source='computerweekly', created_at='', importance_score=0.2667188740867348),\n",
       " Article(id='https://www.computerweekly.com/news/366627196/July-Patch-Tuesday-brings-over-130-new-flaws-to-address', title='July Patch Tuesday brings over 130 new flaws to address', body='Microsoft has patched a total of 130 new common vulnerabilities and exposures (CVEs) across its product suite in\\nits monthly Patch Tuesday update\\n, including 10 critically dangerous flaws, many of them in Microsoft Office, while a bunch of third-party issues bring the monthly total to approximately 140. However, despite its wide breadth, Redmond’s latest update is light on\\nzero-day\\nissues.\\nIndeed, the top-line vulnerability – and the only one that comes close to being classified as a zero-day – is tracked as CVE-2025-49719. It is an information disclosure vulnerability in Microsoft SQL Server arising from improper input validation, enabling an unauthorised attacker to disclose information – specifically uninitialised memory – over the network.\\nCredited to Microsoft’s own Vladimir Aleksic, CVE-2025-49719 is considered relatively trivial to exploit, and although Microsoft has no evidence that it is being exploited in the wild, it has already been publicly disclosed, so attacks will likely begin imminently. CVE-2025-49719 carries a CVSS score of 7.5 and is ranked as being of important severity.\\nMike Walters, president and co-founder of patch management specialist\\nAction1\\n, outlined a number of advanced attack scenarios in which CVE-2025-49719 could come into play.\\n“An attacker could map out database structures, identify injection points, and gather information to support more targeted intrusions,” he said. “[Or] by accessing uninitialised memory, they might recover fragments of authentication credentials, potentially enabling further attacks against the database or related systems.\\nWalters added: “The risk increases when combined with other techniques – for example, using the leaked data to refine SQL injection, bypass authentication, or move laterally using connection strings that contain credentials to other systems.\\n“The potential impact on organisations is significant, as any user of Microsoft SQL Server could be affected, covering a large portion of the enterprise database market.”\\nWalters said that the data exposure risk made CVE-2025-49719 a high-priority concern for defenders at any organisation holding valuable or regulated data. He added that the comprehensive nature of the affected versions – which span multiple releases dating back nine years – may indicate a more “fundamental issue” in how SQL Server handles memory management and input validation.\\nThe 10 critical vulnerabilities, in CVE number order, are as follows:\\nCVE-2025-47980\\n– an information disclosure vulnerability in Windows Imaging Component\\nCVE-2025-47981\\n–\\nan RCE vulnerability in SPNEGO Extended Negotiation Security Mechanism\\nCVE-2025-48822\\n– an RCE vulnerability in Windows Hyper-V Discrete Device Assignment (DDA)\\nCVE-2025-49695\\n– a remote code execution (RCE) vulnerability in Microsoft Office\\nCVE-2025-49696\\n– a second RCE flaw in Microsoft Office\\nCVE-2025-49697\\n– a third RCE flaw in Microsoft Office\\nCVE-2025-49702\\n– a fourth and final RCE flaw the same product suite\\nCVE-2025-49704\\n– an RCE issue in Microsoft SharePoint\\nCVE-2025-49717\\n– an RCE flaw in Microsoft SQL Server\\nCVE-2025-49735\\n– an RCE vulnerability in Windows KDC Proxy Service (KPSSVC)\\nThe July Patch Tuesday drop also lists two critical third-party RCE vulnerabilities in AMD processors, to which security teams should pay close attention.\\nNone of the 12 above-listed issues are currently known to be being exploited, nor have exploits yet been made available. However, CVE-2025-47981 in SPNEGO – an important protocol that is used to negotiate authentication on critical services, many of them internet-facing – caught the eye of the\\nQualys Threat Research Unit’s\\n(TRU’s) senior manager of security research, Saeed Abbasi, who warned that this particular patch should be applied immediately.\\n“A single unauthenticated NEGOEX packet can drop attacker-controlled code straight into Local Security Authority Subsystem Service (LSASS), running as SYSTEM. No clicks, no creds needed – exactly the recipe that turns bugs into network worms. This isn’t just a bug – it’s a loaded gun pointed at your organisation,” he said.\\n“Once inside, the exploit can pivot to every Windows 10 endpoint that still has the default PKU2U setting enabled. We expect NEGOEX exploits to be weaponised within days, so attacks are imminent.\\n“Patch within 48 hours, start with internet-facing or VPN-reachable assets and anything that touches AD. If you absolutely can’t patch, disable ‘Allow PKU2U authentication requests’ via GPO and block inbound 135/445/5985 at the edge,” he said.\\nWatchTowr\\nfounder and CEO Ben Harris agreed this was one to watch. He said: “Remote code execution is bad, but early analysis is suggesting that this vulnerability may be wormable – the sort of vulnerability that could be leveraged in self-propagating malware and make many revisit trauma from\\nthe WannaCry incident\\n, and similar.\\n“Microsoft is clear on pre-requisites here: no authentication required, just network access. We shouldn’t fool ourselves – if the private industry has noticed this vulnerability, it is certainly already on the radar of every attacker with an ounce of malice. Defenders need to drop everything, patch rapidly, and hunt down exposed systems.”\\nNotLogon – the vulnerability found by an AI\\nFinally this month, Dor Segal, senior security researcher at Silverfort, highlighted\\nCVE-2025-47978\\n, which his team identified in the Windows Netlogon protocol using an artificial intelligence (AI) large language model (LLM) to scan and compare old release notes as part of a test to see whether or not AI could help speed up the vulnerability discovery process.\\nThe Silverfort team has dubbed this issue NotLogon\\n– although note that Microsoft’s disclosure refers to it as affecting the closely related Windows Kerberos protocol.\\nAlthough not critical in its severity, CVE-2025-47978 enables an attacker using a domain-joined machine with minimal privileges to send a specially crafted authentication request that will have the effect of crashing a domain controller and causing the system to fully reboot.\\nSuch a crash impacts the core Windows LSASS security process and disrupts Active Directory services such as user logins, policy application and access to authentication-dependent resources.\\nSegal said the issue was a great example of how even low-privilege computers with basic network access can still be the harbinger of bigger problems.\\n“This vulnerability shows how only a valid machine account and a crafted RPC message can bring down a domain controller – the backbone of Active Directory operations like authentication, authorisation, policy enforcement and more,” he said.\\n“If multiple domain controllers are affected, it can bring business to a halt. NOTLogon is a reminder that new protocol features – especially in privileged authentication services – can become attack surfaces overnight. Staying secure isn’t only about applying patches – it’s about examining the foundational systems we rely on every day.\\n“I strongly suggest installing the latest Microsoft Patch Tuesday update immediately across all domain controllers, along with tightening access controls for service and machine accounts,” he concluded.\\nRead more about Patch Tuesday\\nJune 2025: Barely 70 vulnerabilities make the cut for Microsoft’s monthly security update, but an RCE flaw in WEBDAV and an EoP issue in Windows SMB Client still\\nwarrant close attention\\n.\\nMay 2025: Microsoft fixes five exploited, and two publicly disclosed, zero-days\\nin the fifth Patch Tuesday update of 2025\\n.\\nApril 2025: Microsoft is correcting 124 vulnerabilities in its April Patch Tuesday, one of which is being actively exploited in the wild,\\nand 11 of which are ‘critical’\\n.\\nMarch 2025: The third Patch Tuesday of 2025 brought\\nfixes for 57 flaws and a hefty number of zero-days\\n.\\nFebruary 2025: Microsoft corrected 57 vulnerabilities,\\ntwo of which are being actively exploited in the wild, and three of which are ‘critical’\\n.\\nJanuary 2025: The\\nlargest Patch Tuesday of the 2020s so far\\nbrings fixes for more than 150 CVEs ranging widely in their scope and severity – including eight zero-day flaws.\\nDecember 2024: Microsoft has fixed over 70 CVEs in its\\nfinal Patch Tuesday update of the year\\n, and defenders should prioritise a zero-day in the Common Log File System Driver, and another impactful flaw\\nin the Lightweight Directory Access Protocol\\n.\\nNovember 2024: High-profile vulns in NTLM, Windows Task Scheduler, Active Directory Certificate Services and Microsoft Exchange Server\\nshould be prioritised from November’s Patch Tuesday update\\n.\\nOctober 2024: Stand-out vulnerabilities in Microsoft’s latest Patch Tuesday drop include problems in Microsoft Management Console\\nand the Windows MSHTML Platform\\n.\\nSeptember 2024: Four critical remote code execution bugs in Windows and three critical elevated privileges vulnerabilities\\nwill keep admins busy\\n.\\nAugust 2024: Microsoft patches six actively exploited zero-days among over 100 issues\\nduring its regular monthly update\\n.\\nJuly 2024: Microsoft has fixed almost 140 vulnerabilities in its latest monthly update, with a Hyper-V zero-day\\nsingled out for urgent attention\\n.', published_at='Tue, 08 Jul 2025 18:20:00 GMT', url='', source='computerweekly', created_at='', importance_score=0.4938764865461556),\n",
       " Article(id='https://www.computerweekly.com/news/366627274/MS-calls-for-mandatory-ransomware-reporting', title='M&S calls for mandatory ransomware reporting', body='Marks & Spencer chairman Archie Norman has described the recent\\nransomware attack\\non the retailer’s systems as something akin to an “out-of-body experience” as he called for cyber attack victims to be brave, bite the bullet, and be\\nopen and transparent about their experiences\\n.\\nSpeaking before the Business and Trade Sub-Committee on Economic Security, Arms and Export Controls –\\nin a session\\nat which representatives from\\nfellow attack victim Co-op Group\\nand various cyber experts including former National Cyber Security Centre (NCSC) chief\\nCiaran Martin\\nalso gave evidence – Norman said that while he did not believe government can regulate its way to security, there was a role for it to play in making sure learnings from security incidents are discussed and dispersed, particularly at boardroom level.\\nHe said M&S wanted to use its experience for the benefit of government and other businesses. “I’ve already got one or two boards that have invited me to come and see them and share our war stories, which I will certainly do,” he said.\\n“We do think that mandatory reporting is a very interesting idea,” added Norman. “It’s apparent to us that quite a large number of cyber attacks never get reported to the NCSC. In fact, we have reason to believe there have been two major cyber attacks on large British companies in the last four months which have gone unreported.\\n“We think that’s a big deficit in our knowledge as to what’s happening,” he said. “I don’t think it would be regulatory overkill to say if you have a material attack … for companies of a certain size, you are required within a time limit to report those to the NCSC, and that would enhance the central intelligence body around this.\\nNorman said that early on – before reports of a cyber attack hit the front pages – M&S had shared all the information it had about the ongoing incident with the NCSC so it could alert other retail businesses, likely including Co-op Group.\\nHe also revealed that M&S had received an undisclosed level of support from the US FBI, saying it was “more muscled up” in this regard.\\nTraumatic incident\\nDiscussing the impact of the cyber attack, Norman said: “It’s fair to say that everybody at M&S experienced it. Our ordinary shop colleagues [were] working in ways they hadn’t worked for 30 years, working extra hours just to try to keep the show on the road. Let aside our tech colleagues, for a week, probably, the cyber team had no sleep … It’s not an overstatement to describe it as traumatic.\\nM&S is still rebuilding its business and expects to be doing so for some time to come, and recognising that its overall IT estate is a hodgepodge of legacy systems, Norman said the organisation is now moving up various phases of an ongoing tech refresh in the wake of the attack.\\nCommenting on remarks made in the House of Commons by MP David Davis that an unnamed British company had paid a significant ransom recently, Norman declined to say whether or not M&S was the organisation to which Davis was referring, and would not directly disclose whether or not the retailer had received a ransomware demand.\\nHe said that early on, M&S had taken a decision not to communicate directly with its attackers, leaving that to cyber professionals.\\nNorman added that for some time, M&S did not know who had attacked it. “\\nThey never send you a letter signed Scattered Spider\\n– that doesn’t happen,” he said. “We didn’t even hear from the threat actor for approximately a week after they penetrated our systems. You rely completely upon your security advisors to say what they think is happening, and they recognised the threat actor by the attack vector.\\n“Also, they communicate through the media, and in this case their chosen avenue of communication\\nwas principally the BBC\\n. It was sometimes an unusual experience to be brushing your teeth in the morning when somebody comes onto the BBC with a communication from the people who are allegedly attacking your business.”\\nSocial engineering\\nTaking further questions from the panel, Norman went out of his way to explicitly deny media reports that suggested M&S had “left the back door open”, saying the attack had occurred via social engineering via an undisclosed third-party, as has been extensively speculated over the past few weeks.\\n“The attack on M&S has been penned as sophisticated impersonation, in this case likely referring to the use of advanced social engineering tactics, potentially including deepfake audio or video, to convincingly pose as executives or trusted insiders,” said Richard LaTulip, field chief information security officer at threat intelligence specialist\\nRecorded Future\\n.\\n“Protecting against sophisticated impersonation attacks requires a layered approach,” he added. “While technical defences, such as multi-factor authentication and identity verification tools, are essential, the human layer remains the most vulnerable. That’s why ongoing training and executive-level awareness are critical. Employees, especially those in high-risk roles, must be educated to recognise social engineering tactics, including AI-generated deepfakes or urgent messages impersonating leadership.”\\nTimeline: Scattered Spider attacks in 2025\\n22 April 2025:\\nA cyber attack at M&S has caused significant disruption to customers, leaving them unable to make contactless payments\\nor use click-and-collect services\\n.\\n24 April:\\nM&S is still unable to provide contactless payment or click-and-collect services amid a cyber attack that it says has forced it to move a number of processes offline\\nto safeguard its customers, staff and business\\n.\\n25 April:\\nM&S shuts down online sales as it works to contain and mitigate\\na severe cyber attack on its systems\\n.\\n29 April:\\nThe infamous Scattered Spider hacking collective may have been behind the ongoing cyber attack on M&S that has crippled systems at the retailer and\\nleft its ecommerce operation in disarray\\n.\\n30 April:\\nA developing cyber incident at Co-op has forced the retailer to pull the plug on some of its IT systems as it works\\nto contain the attack\\n.\\n1 May:\\nCo-op tells staff to stop using their VPNs and be wary that their communications channels may be being monitored, as a cyber attack on the organisation\\ncontinues to develop\\n.\\n1 May:\\nHarrods confirms it is the latest UK retailer to experience a cyber attack, shutting off a number of systems in an attempt\\nto lessen the impact\\n.\\n2 May:\\nThe National Cyber Security Centre confirms it is providing assistance to M&S, Co-op and Harrods as\\nconcerns grow among UK retailers\\n.\\n7 May:\\nNo end is yet in sight for UK retailers subjected to apparent\\nransomware attacks\\n.\\n13 May:\\nM&S is instructing all of its customers to change their account passwords after a significant amount of data was stolen\\nin a DragonForce ransomware attack\\n.\\n14 May:\\nGoogle’s threat intel analysts are aware of a number of in-progress cyber attacks against US retailers linked to the same Scattered Spider gang\\nthat supposedly attacked M&S and Co-op in the UK\\n.\\n20 May:\\nCold chain services provider Peter Green Chilled, which supplies the likes of Aldi, Sainsbury’s and Tesco, has been forced to halt operations\\nafter succumbing to a ransomware attack\\n.\\n11 June:\\nSo-called Black Swan events expose the blind spots in even the most sophisticated forecasting models, signaling a need to rethink how businesses, and those investing in them, quantify\\nand prepare for cyber risk\\n.\\n13 June:\\nThe recent spate of cyber attacks on UK retailers has to be a wake-up call to build more cyber resilience into digital supply chains and\\nfortify against social engineering attacks\\n.\\n17 June:\\nFollowing a series of high-profile attacks on prominent retailers and consumer brands, the Scattered Spider cyber crime collective appears to be\\nexpanding its targeting to the insurance sector\\n.\\n20 June:\\nThe UK’s Cyber Monitoring Centre has published its first in-depth assessment of a major incident, reflecting on the impact of and lessons learned from\\nScattered Spider attacks on M&S and Co-op\\n.\\n27 June:\\nMultiple reports are emerging of cyber attacks on airlines – Google Cloud’s Mandiant\\nbelieves them to be linked\\n.\\n2 July:\\nAustralian flag carrier Qantas is investigating significant data theft of personal information for up to 6 million customers after a third-party platform\\nused by its call centre was compromised\\n.\\n2 July:\\nA developing cyber attack at Australian airline Qantas that started at a third-party call centre is already being tentatively attributed to Scattered Spider.\\nFind out more and learn about the next steps for those affected\\n.', published_at='Tue, 08 Jul 2025 14:36:00 GMT', url='', source='computerweekly', created_at='', importance_score=0.2725209833931893),\n",
       " Article(id='https://www.computerweekly.com/news/366627272/SEC-and-SolarWinds-to-settle-lawsuit-over-2020-breach', title='SEC and SolarWinds to settle lawsuit over 2020 breach', body='The United States’ Securities and Exchange Commission (SEC) has reached a\\nsettlement in principle\\nwith SolarWinds in\\nan ongoing case\\nagainst the organisation and its chief information security officer, Tim Brown, over failings that led to the compromise of its IT performance management platform Orion by the Russian state hacking group known as Cozy Bear.\\nThe so-called Sunburst/Solorigate supply chain incident\\nthat came to light in December 2020\\nsaw malicious code introduced into the SolarWinds’ platform by the Russians, which was then unknowingly pushed to downstream targets as a legitimate update.\\nAlmost 20,000 SolarWinds customers downloaded and installed the malicious updates, among them the likely true targets of the cyber attack,\\nAmerican government bodies\\n, such as the Department of Energy (DoE) and the National Nuclear Safety Administration (NNSA) that maintains the US nuclear weapons stock.\\nIn a letter to presiding judge Paul Engelmayer of the US District Court for the Southern District of New York, SEC and SolarWinds representatives said they had reached a settlement in principle “that would completely resolve this litigation”, subject to review and approval by the SEC’s commissioners. They requested all pending dates in the case be stayed ahead of a planned filing date for the final settlement, set for 12 September.\\nEngelmayer congratulated both parties on a “productive development” and has subsequently stayed all deadlines in the case, as well as adjourning oral arguments set for later this month.\\nA SolarWinds spokesperson said: “The settlement is subject to approval by the Commission and we cannot therefore discuss the terms at this time. We are pleased with the potential resolution and happy to focus on driving our business forward without distraction.”\\nCharges dropped\\nLast year, Engelmayer\\ntossed out most of the SEC’s claims\\nagainst SolarWinds and Brown, which had alleged that they had knowingly defrauded investors in overstating the resilience of the organisation’s security practices, and understating or not disclosing known risks.\\nAmong other things, the SEC claimed that the defendants ignored, covered up or even outright lied to customers about links between different cyber attacks on various Orion users that were taking place over the course of 2020.\\nEngelmayer’s initial dismissal of many of the charges, including those that stemmed from SolarWinds disclosures made after news of the incident broke, was made on the basis that they relied on hindsight and speculation.\\nHowever, he did sustain a number of charges, including parts of the SEC’s complaints that alleged public misrepresentations about the resilience of SolarWinds’ access controls.\\nGiven the SEC’s\\nmuch-publicised and well-dissected rules on security incident reporting\\n, which came into force at the end of 2023 and put the spotlight firmly on\\nthe actions security leaders take following an incident\\n, the reasons why it has chosen to try to reach a full settlement will likely bear some analysis.\\nComputer Weekly’s sister title\\nCybersecurity Dive\\nsuggested that the Republican majority now in control at the SEC may have had some bearing on the regulator’s willingness to compromise – the initial case was brought by the Democrat-led body under former president Joe Biden.\\nLending weight to the theory that the dramatic change in the US political landscape is behind the SolarWinds settlement, the SEC has also recently dropped a number of enforcement cases\\ninvolving cryptocurrency firms\\nincluding the likes of Binance, Coinbase and Crypto.com. This came following a 23 January Executive Order (EO) from president Trump’s White House,\\ndesigned to support the crypto sector\\n.\\nRead more about the SolarWinds incident\\nHackers targeted SolarWinds by deploying malicious code into its Orion IT monitoring and management software used by thousands of enterprises\\nand government agencies worldwide\\n.\\nThis episode covers the SEC charges against SolarWinds and CISO Timothy Brown for allegedly hiding known cybersecurity risks prior to\\nthe 2020 supply chain attack it suffered\\n.\\nSolarWinds’ CEO Sudhakar Ramakrishna talks up the company’s observability playbook and offers a glimpse\\ninto its technology roadmap\\n.', published_at='Tue, 08 Jul 2025 10:36:00 GMT', url='', source='computerweekly', created_at='', importance_score=0.29029381881743643),\n",
       " Article(id='https://www.computerweekly.com/opinion/From-the-FBI-to-FA-lessons-learnt-in-safeguarding-systems-and-data', title='From the FBI to F&A: lessons learnt in safeguarding systems and data', body=\"One might not typically expect a childhood on a Texas farm to lead to a career that involve investigating cybercriminals at the FBI, and then to one protecting financial data at a global software company. But cybersecurity is an industry built on unpredictability – and that’s exactly what draws many aspiring individuals, including myself many years ago, to it.\\nHaving a varied and diversified career has many benefits, and not least the ability to approach challenges with a broader lens, draw on a wide range of experiences, and adapt quickly to new and evolving threats. In cybersecurity, where no two days are the same, this kind of versatility is invaluable. From early roles with Department of the Navy and the U.S. Bankruptcy Court – to the FBI – there are many learnings I have since taken into security roles in telecoms, consumer goods, private equity, and now in the financial software space as CISO at BlackLine. While some of these industries and organisations couldn’t be more different, there are some core skills and lessons for any security professional to be aware of.\\nFinance teams: the unexpected front line\\nWhen most people think about\\ncyber security\\n, they picture IT departments and firewalls. But increasingly, attackers are bypassing the technical perimeter and going straight for the people who hold the purse strings.\\nFinance and accountancy (F&A) professionals handle sensitive data, authorise payments, and interact with vendors: all prime opportunities for cybercriminals looking to manipulate systems or people. In fact, business email compromise (BEC), fake invoice scams, and internal fraud schemes often originate within finance teams, whether due to process gaps, social engineering, or a simple lack of cyber awareness. Yet, many finance teams still see cybersecurity as “someone else’s job.”\\nSimilar issues persist in many other industries, with those in front-line roles vulnerable to attack. This is a dangerous blind spot. With global financial fraud losses topping $500 billion annually, finance, and other key department, leaders must now think of cyber risk as a core business risk – one that requires proactive controls, training, and collaboration with security teams.\\nSecuring operations: from mindset shift to practical steps\\nThe first step is recognising that cybersecurity isn’t only a technical issue; it’s a business issue. Therefore, all teams have a vital role to play in keeping the organisation safe and running effectively.\\nAt BlackLine, we treat F&A professionals as key players in our security programme. We invest heavily in tailored security awareness training, including phishing simulations, and ensure our financial controls are designed with cybersecurity in mind. Dual approvals for payments, multi-factor authentication for system access, and regular audits of user permissions are standard practice.\\nToo often, a cyber-attack or fraud happens because of outdated processes or excessive trust in a single individual. Building layered controls – including in all financial processes – and pressure-testing them regularly, can drastically reduce risk.\\nEqually important is recognising third-party exposure. For example, finance and accounting teams often deal directly with vendors, payment processors, and banks – any of which can introduce vulnerabilities. As a result, due diligence, regular risk assessments, and clear escalation paths for when suspected issues and threats arise are essential components of a secure financial operation. Crucially, other departments would be wise to take similar steps to prevent potential third-party security issues arising.\\nWhy communication is a CISO’s strongest tool\\nOne of the most valuable skills I’ve developed over the years isn’t technical, it’s translation. Communicating cybersecurity risk in business terms is key to engaging stakeholders who don’t live and breathe threat landscapes.\\nDuring my time at BT, I learned how to\\nframe security in the language of risk\\n: not just cyber risk, but financial, operational, and reputational risk. That shift in perspective has allowed me to build stronger alignment between IT and business functions, especially in highly regulated industries like finance.\\nBeing transparent about both successes and challenges is also critical. I set clear expectations with my team and the board about what we measure, why it matters, and where we need to improve. This builds trust and helps foster a culture where continuous improvement – not fear – drives action.\\nThe rise of AI – and the risks that come with it\\nOf course, the cybersecurity landscape is always evolving. Right now, the integration of generative and\\nagentic AI\\nv tools is reshaping how all departments, including security teams, operate. These technologies offer incredible promise in automating tasks and detecting anomalies, but they also introduce new risks, from data leakage into public LLMs to inaccuracies that could undermine integrity, including in a financial sense.\\nIt’s therefore vital that new AI solutions are not viewed as a silver bullet. They must be deployed carefully, with clear usage policies, regular reviews, and strong governance to prevent new threat types from gaining a foothold.\\nAt our company, we’re investing in AI capabilities that complement – rather than replace – human oversight. And we’re ensuring that all employees, not just technologists, are trained to understand both the opportunities and limitations of these tools.\\nCyber resilience in a borderless world\\nCyber threats no longer respect geographic boundaries. While compliance requirements may vary by region, attackers don’t care whether your headquarters is in London, Los Angeles or Lagos. That’s why I advocate for setting a global “high bar” for security controls, rather than customising by country.\\nTaking finance professionals specifically, whether you're a global CFO or an accountant at a mid-sized firm, the fundamentals remain the same: confidentiality, integrity, and availability – otherwise known as the CIA triad – must be preserved at all costs. And in the age of AI, that becomes even more complex.\\nAdvice for the next generation\\nTo those considering a career in cybersecurity, my advice is this: your perspective matters. My journey has taken unexpected turns, from tracking down hackers to building board-level security strategies. But if there’s one thing that hasn’t changed, it’s this: in cybersecurity, the human element is always the most important.\\nJill Knesek is the Chief Information Security Officer at BlackLine.\\nRead more about cyber security in finance and accounting\\nMaturing\\nUK fintechs increase tech and cyber security hiring\\nImproving\\nfinance and accounting software with AI\\nThe relationship between\\ncloud FinOps and security\", published_at='Fri, 04 Jul 2025 12:12:00 GMT', url='', source='computerweekly', created_at='', importance_score=0.33733425948233897),\n",
       " Article(id='https://www.computerweekly.com/news/366627095/US-CISA-agency-extends-Iran-cyber-alert-warns-of-CNI-threat', title='US CISA agency extends Iran cyber alert, warns of CNI threat', body=\"The United States\\nCybersecurity and Infrastructure Security Agency\\n(CISA) has reiterated and extended previous warnings over the activities of Iranian threat actors targeting Western interests, following attacks on the Middle Eastern state’s alleged nuclear weapons programme conducted by Israel and the US.\\nThe US strikes on 22 June\\nprompted a swift alert\\nfrom the Department of Homeland Security’s (DHS’) National Terrorism Advisory System (NTAS) warning of an uptick in “low-level” attacks from hacktivists and more damaging intrusions from threat actors backed by Tehran.\\nIn an update\\n, CISA said that defence industrial base companies – especially those possessing holdings or relationships with counterparts in Israel – were at especially increased risk.\\n“At this time, we have not seen indications of a coordinated campaign of malicious cyber activity in the US that can be attributed to Iran,” the agency said in a statement.\\n“However,\\xa0CISA urges owners and operators of critical infrastructure organisations and other potentially targeted entities to review this fact sheet to learn more about the Iranian state-backed cyber threat and actionable mitigations to harden cyber defences.”\\nIn the alert, CISA advised that both Iranian and allied hackers are known to exploit opportunistic targets based on their use of unpatched or outdated software, or failure to change default passwords on internet-connected accounts or devices.\\nFor critical national infrastructure (CNI) operators in particular, these threat actors have been observed using system engineering and diagnostic tools to target\\noperational technology\\n(OT) such as engineering devices, performance and security systems, and maintenance and monitoring systems.\\nCISA’s fact sheet also includes a number of mitigating steps that CNI operators can take at this time, much of it focused on identifying and disconnecting OT and industrial control system (ICS) assets from the internet, keeping such assets up to date, and maintaining appropriate monitoring and control policies – including enforcing password hygiene, role-based access controls, and phishing-resistant multifactor authentication (MFA).\\nCISA also said that for several months, Iran-aligned hacktivists have been conducting website defacements and leaking sensitive information stolen from victims. The agency warned of the likelihood of more distributed-denial-of-service (DDoS) attacks, and even ransomware attacks run in collaboration with other groups.\\nWill Robert ‘hack-and-leak’?\\nCISA’s warnings came as a hacking operation backed by Iran’s Islamic Revolutionary Guard Corps (IRGC) – known as Robert – threatened to release compromising information on the administration of president Donald Trump in retaliation for the airstrikes.\\nThe group, which previously leaked emails in the run up to last year’s presidential election in the US, claimed to have over 100GB of data to “share”.\\nSpeaking to the\\nReuters\\nagency\\nin the past few days, Robert claimed some of these emails were taken from the accounts of Trump adviser Roger Stone, White House chief of staff Susie Wiles,\\nand Stormy Daniels\\n, the adult entertainer at the centre of a hush-money scandal.\\nMax Lesser, senior analyst on emerging threats at the Foundation for Defense of Democracies’ (FDD’)\\nCenter on Cyber and Technology Innovation\\n, said that it was wise to be cautious about the credibility of Robert’s claims.\\nHe explained: “A common technique in state-sponsored data leaks is to sneak lies into troves of largely true information. The authenticity of the majority of the data makes the fabrications appear real. This information, when it comes out, must be verified before [it is] believed.”\\nLesser said hack-and-leak ops were a popular tool for such state-linked actors because they enable states that lack a military advantage to be seen to retaliate without crossing a threshold that might lead to a kinetic response from the US.\\n“Considerable conversation about Iran’s retaliation in cyber space to US military strikes has focused on cyber attacks against companies and critical infrastructure. But cyber-enabled influence operations provide another plausible vector of attack. This was not the first hack-and-leak conducted by Iran against Trump, and likely not the last,” he added.\\nLesser also warned that in disabling some of the US government’s capabilities around countering foreign influence operations it had enhanced the ability of groups like Robert to damage national and global security.\\n“The Trump administration…should consider revitalising counter-malign influence efforts while ensuring these efforts safeguard free speech,” he said.\\nRead more about Iranian threat actors\\nBad actors have used AI technology for more than a decade to spread misinformation and disinformation. However, the tools are getting more sophisticated\\nand difficult to detect\\n.\\nCISA, the FBI and the Office of the Director of National Intelligence attributed a recent hack-and-leak\\nattack on Trump's 2024 election campaign to Iran\\n.\\nNation-state threat actors like Russia, China, Iran and North Korea are targeting critical infrastructure and sensitive data, so executives must\\nprepare to defend against them\\n.\", published_at='Wed, 02 Jul 2025 12:39:00 GMT', url='', source='computerweekly', created_at='', importance_score=0.47248898249225235)]"
      ]
     },
     "execution_count": 81,
     "metadata": {},
     "output_type": "execute_result"
    }
   ],
   "source": [
    "relevant_articles_new"
   ]
  }
 ],
 "metadata": {
  "kernelspec": {
   "display_name": "Python 3 (ipykernel)",
   "language": "python",
   "name": "python3"
  },
  "language_info": {
   "codemirror_mode": {
    "name": "ipython",
    "version": 3
   },
   "file_extension": ".py",
   "mimetype": "text/x-python",
   "name": "python",
   "nbconvert_exporter": "python",
   "pygments_lexer": "ipython3",
   "version": "3.9.17"
  }
 },
 "nbformat": 4,
 "nbformat_minor": 5
}
